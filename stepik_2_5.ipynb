{
 "cells": [
  {
   "cell_type": "markdown",
   "metadata": {},
   "source": [
    "### Списки  \n",
    "Списки используются, чтобы хранить наборы значений, и выполнять операции с этими наборами  \n",
    "Элементами списка могут быть произвольные значения: строки, числа, и даже другие списки  \n",
    "В рамках одного списка допускается комбинировать объекты разных типов.  \n",
    "```python\n",
    "students = ['Ivan', 'Masha', 'Sasha']\n",
    "for student in students:\n",
    "    print(\"Hello, \" + student + \"!\")\n",
    "```"
   ]
  },
  {
   "cell_type": "code",
   "execution_count": 1,
   "metadata": {},
   "outputs": [
    {
     "name": "stdout",
     "output_type": "stream",
     "text": [
      "Hello, Ivan!\n",
      "Hello, Masha!\n",
      "Hello, Sasha!\n"
     ]
    }
   ],
   "source": [
    "students = ['Ivan', 'Masha', 'Sasha']\n",
    "for student in students:\n",
    "    print(\"Hello, \" + student + \"!\")"
   ]
  },
  {
   "cell_type": "markdown",
   "metadata": {},
   "source": [
    "### Доступ к элементам списка  \n",
    "```python\n",
    "students = ['Ivan', 'Masha', 'Sasha']\n",
    "len(students) # длина списка\n",
    "# результат = 3\n",
    "```\n",
    "Как и в случае со строками, элементы списка нумеруются с 0"
   ]
  },
  {
   "cell_type": "code",
   "execution_count": 2,
   "metadata": {},
   "outputs": [
    {
     "data": {
      "text/plain": [
       "3"
      ]
     },
     "execution_count": 2,
     "metadata": {},
     "output_type": "execute_result"
    }
   ],
   "source": [
    "students = ['Ivan', 'Masha', 'Sasha']\n",
    "len(students)"
   ]
  },
  {
   "cell_type": "code",
   "execution_count": 11,
   "metadata": {},
   "outputs": [
    {
     "name": "stdout",
     "output_type": "stream",
     "text": [
      "Ivan\n",
      "Masha\n",
      "Sasha\n",
      "['Ivan', 'Masha']\n"
     ]
    }
   ],
   "source": [
    "students = ['Ivan', 'Masha', 'Sasha']\n",
    "print(students[0])\n",
    "print(students[1])\n",
    "print(students[2])\n",
    "print(students[:2]) # все элементы списка с 0 по 2 не включительно (0 и 1)"
   ]
  },
  {
   "cell_type": "code",
   "execution_count": 10,
   "metadata": {},
   "outputs": [
    {
     "name": "stdout",
     "output_type": "stream",
     "text": [
      "Sasha\n",
      "Masha\n",
      "Ivan\n",
      "['Sasha', 'Masha', 'Ivan']\n"
     ]
    }
   ],
   "source": [
    "students = ['Ivan', 'Masha', 'Sasha']\n",
    "print(students[-1]) # последний элемент списка\n",
    "print(students[-2])\n",
    "print(students[-3])\n",
    "print(students[::-1]) # все элементы списка в противоположном порядке"
   ]
  },
  {
   "cell_type": "markdown",
   "metadata": {},
   "source": [
    "### Операции со списками  "
   ]
  },
  {
   "cell_type": "code",
   "execution_count": 15,
   "metadata": {},
   "outputs": [
    {
     "data": {
      "text/plain": [
       "['Ivan', 'Masha', 'Sasha', 'Oleg', 'Alex']"
      ]
     },
     "execution_count": 15,
     "metadata": {},
     "output_type": "execute_result"
    }
   ],
   "source": [
    "# сложение\n",
    "students = ['Ivan', 'Masha', 'Sasha']\n",
    "teachers = ['Oleg', 'Alex']\n",
    "students + teachers # изначальные списки не меняются"
   ]
  },
  {
   "cell_type": "code",
   "execution_count": 16,
   "metadata": {},
   "outputs": [
    {
     "data": {
      "text/plain": [
       "[0, 1, 0, 1, 0, 1, 0, 1]"
      ]
     },
     "execution_count": 16,
     "metadata": {},
     "output_type": "execute_result"
    }
   ],
   "source": [
    "# умножение\n",
    "[0, 1] * 4"
   ]
  },
  {
   "cell_type": "markdown",
   "metadata": {},
   "source": [
    "### Изменение списков  \n",
    "В отличии от других типов данных (**int, float, str**), списки (**list**) являются изменяемыми.  "
   ]
  },
  {
   "cell_type": "code",
   "execution_count": 17,
   "metadata": {},
   "outputs": [
    {
     "name": "stdout",
     "output_type": "stream",
     "text": [
      "['Ivan', 'Oleg', 'Sasha']\n"
     ]
    }
   ],
   "source": [
    "# можно изменить конкретный элемент списка\n",
    "students = ['Ivan', 'Masha', 'Sasha']\n",
    "students[1] = 'Oleg' # изменяем элемент списка с индексом 1 \n",
    "print(students)"
   ]
  },
  {
   "cell_type": "markdown",
   "metadata": {},
   "source": [
    "### Добавление элементов в список  \n",
    "Помимо явного изменения значения списка, можно изменять список, добавляя в него новые элементы"
   ]
  },
  {
   "cell_type": "code",
   "execution_count": 18,
   "metadata": {},
   "outputs": [
    {
     "name": "stdout",
     "output_type": "stream",
     "text": [
      "['Ivan', 'Masha', 'Sasha', 'Olga']\n"
     ]
    }
   ],
   "source": [
    "students = ['Ivan', 'Masha', 'Sasha']\n",
    "students.append('Olga') # добавление элемента в список при помощи метода append\n",
    "print(students)"
   ]
  },
  {
   "cell_type": "code",
   "execution_count": 20,
   "metadata": {},
   "outputs": [
    {
     "name": "stdout",
     "output_type": "stream",
     "text": [
      "['Ivan', 'Masha', 'Sasha', 'Olga', 'Olga']\n"
     ]
    }
   ],
   "source": [
    "# помимо фукнции append можно использовать оператор +=\n",
    "students += ['Olga']\n",
    "print(students)"
   ]
  },
  {
   "cell_type": "code",
   "execution_count": 25,
   "metadata": {},
   "outputs": [
    {
     "name": "stdout",
     "output_type": "stream",
     "text": [
      "['Ivan', 'Masha', 'Sasha', 'Olga', 'Olga', 'Boris', 'Sergey', 'Boris', 'Sergey', 'Boris', 'Sergey', 'Boris', 'Sergey']\n"
     ]
    }
   ],
   "source": [
    "students += ['Boris', 'Sergey']\n",
    "print(students)"
   ]
  },
  {
   "cell_type": "code",
   "execution_count": 26,
   "metadata": {
    "collapsed": true
   },
   "outputs": [],
   "source": [
    "# Пустой список. Далее можно добавлять элементы по одному/несколько (например, в цикле)\n",
    "students = []"
   ]
  },
  {
   "cell_type": "code",
   "execution_count": 27,
   "metadata": {},
   "outputs": [
    {
     "name": "stdout",
     "output_type": "stream",
     "text": [
      "['Ivan', 'Olga', 'Masha', 'Sasha']\n"
     ]
    }
   ],
   "source": [
    "# Вставка элементов в список\n",
    "students = ['Ivan', 'Masha', 'Sasha']\n",
    "students.insert(1, 'Olga') # позиция, в которую мы вставляем элемент\n",
    "print(students)"
   ]
  },
  {
   "cell_type": "code",
   "execution_count": 29,
   "metadata": {},
   "outputs": [
    {
     "name": "stdout",
     "output_type": "stream",
     "text": [
      "['Ivan', 'Masha', 'Sasha', 'Olga', 'O', 'l', 'g', 'a']\n"
     ]
    }
   ],
   "source": [
    "# Задание 1\n",
    "students = ['Ivan', 'Masha', 'Sasha']\n",
    "students += ['Olga']\n",
    "students += 'Olga'\n",
    "print(students)"
   ]
  },
  {
   "cell_type": "code",
   "execution_count": null,
   "metadata": {
    "collapsed": true
   },
   "outputs": [],
   "source": []
  }
 ],
 "metadata": {
  "kernelspec": {
   "display_name": "Python 3",
   "language": "python",
   "name": "python3"
  },
  "language_info": {
   "codemirror_mode": {
    "name": "ipython",
    "version": 3
   },
   "file_extension": ".py",
   "mimetype": "text/x-python",
   "name": "python",
   "nbconvert_exporter": "python",
   "pygments_lexer": "ipython3",
   "version": "3.6.3"
  }
 },
 "nbformat": 4,
 "nbformat_minor": 2
}
