{
 "cells": [
  {
   "cell_type": "markdown",
   "metadata": {},
   "source": [
    "### Списки  \n",
    "Списки используются, чтобы хранить наборы значений, и выполнять операции с этими наборами  \n",
    "Элементами списка могут быть произвольные значения: строки, числа, и даже другие списки  \n",
    "В рамках одного списка допускается комбинировать объекты разных типов.  \n",
    "```python\n",
    "students = ['Ivan', 'Masha', 'Sasha']\n",
    "for student in students:\n",
    "    print(\"Hello, \" + student + \"!\")\n",
    "```"
   ]
  },
  {
   "cell_type": "code",
   "execution_count": 1,
   "metadata": {},
   "outputs": [
    {
     "name": "stdout",
     "output_type": "stream",
     "text": [
      "Hello, Ivan!\n",
      "Hello, Masha!\n",
      "Hello, Sasha!\n"
     ]
    }
   ],
   "source": [
    "students = ['Ivan', 'Masha', 'Sasha']\n",
    "for student in students:\n",
    "    print(\"Hello, \" + student + \"!\")"
   ]
  },
  {
   "cell_type": "markdown",
   "metadata": {},
   "source": [
    "### Доступ к элементам списка  \n",
    "```python\n",
    "students = ['Ivan', 'Masha', 'Sasha']\n",
    "len(students) # длина списка\n",
    "# результат = 3\n",
    "```\n",
    "Как и в случае со строками, элементы списка нумеруются с 0"
   ]
  },
  {
   "cell_type": "code",
   "execution_count": 2,
   "metadata": {},
   "outputs": [
    {
     "data": {
      "text/plain": [
       "3"
      ]
     },
     "execution_count": 2,
     "metadata": {},
     "output_type": "execute_result"
    }
   ],
   "source": [
    "students = ['Ivan', 'Masha', 'Sasha']\n",
    "len(students)"
   ]
  },
  {
   "cell_type": "code",
   "execution_count": 3,
   "metadata": {
    "scrolled": true
   },
   "outputs": [
    {
     "name": "stdout",
     "output_type": "stream",
     "text": [
      "Ivan\n",
      "Masha\n",
      "Sasha\n",
      "['Ivan', 'Masha']\n"
     ]
    }
   ],
   "source": [
    "students = ['Ivan', 'Masha', 'Sasha']\n",
    "print(students[0])\n",
    "print(students[1])\n",
    "print(students[2])\n",
    "print(students[:2]) # все элементы списка с 0 по 2 не включительно (0 и 1)"
   ]
  },
  {
   "cell_type": "code",
   "execution_count": 4,
   "metadata": {},
   "outputs": [
    {
     "name": "stdout",
     "output_type": "stream",
     "text": [
      "Sasha\n",
      "Masha\n",
      "Ivan\n",
      "['Sasha', 'Masha', 'Ivan']\n"
     ]
    }
   ],
   "source": [
    "students = ['Ivan', 'Masha', 'Sasha']\n",
    "print(students[-1]) # последний элемент списка\n",
    "print(students[-2])\n",
    "print(students[-3])\n",
    "print(students[::-1]) # все элементы списка в противоположном порядке"
   ]
  },
  {
   "cell_type": "markdown",
   "metadata": {},
   "source": [
    "### Операции со списками  "
   ]
  },
  {
   "cell_type": "code",
   "execution_count": 5,
   "metadata": {},
   "outputs": [
    {
     "data": {
      "text/plain": [
       "['Ivan', 'Masha', 'Sasha', 'Oleg', 'Alex']"
      ]
     },
     "execution_count": 5,
     "metadata": {},
     "output_type": "execute_result"
    }
   ],
   "source": [
    "# сложение\n",
    "students = ['Ivan', 'Masha', 'Sasha']\n",
    "teachers = ['Oleg', 'Alex']\n",
    "students + teachers # изначальные списки не меняются"
   ]
  },
  {
   "cell_type": "code",
   "execution_count": 6,
   "metadata": {},
   "outputs": [
    {
     "data": {
      "text/plain": [
       "[0, 1, 0, 1, 0, 1, 0, 1]"
      ]
     },
     "execution_count": 6,
     "metadata": {},
     "output_type": "execute_result"
    }
   ],
   "source": [
    "# умножение\n",
    "[0, 1] * 4"
   ]
  },
  {
   "cell_type": "markdown",
   "metadata": {},
   "source": [
    "### Изменение списков  \n",
    "В отличии от других типов данных (**int, float, str**), списки (**list**) являются изменяемыми.  "
   ]
  },
  {
   "cell_type": "code",
   "execution_count": 7,
   "metadata": {},
   "outputs": [
    {
     "name": "stdout",
     "output_type": "stream",
     "text": [
      "['Ivan', 'Oleg', 'Sasha']\n"
     ]
    }
   ],
   "source": [
    "# можно изменить конкретный элемент списка\n",
    "students = ['Ivan', 'Masha', 'Sasha']\n",
    "students[1] = 'Oleg' # изменяем элемент списка с индексом 1 \n",
    "print(students)"
   ]
  },
  {
   "cell_type": "markdown",
   "metadata": {},
   "source": [
    "### Добавление элементов в список  \n",
    "Помимо явного изменения значения списка, можно изменять список, добавляя в него новые элементы"
   ]
  },
  {
   "cell_type": "code",
   "execution_count": 8,
   "metadata": {},
   "outputs": [
    {
     "name": "stdout",
     "output_type": "stream",
     "text": [
      "['Ivan', 'Masha', 'Sasha', 'Olga']\n"
     ]
    }
   ],
   "source": [
    "students = ['Ivan', 'Masha', 'Sasha']\n",
    "students.append('Olga') # добавление элемента в список при помощи метода append\n",
    "print(students)"
   ]
  },
  {
   "cell_type": "code",
   "execution_count": 9,
   "metadata": {},
   "outputs": [
    {
     "name": "stdout",
     "output_type": "stream",
     "text": [
      "['Ivan', 'Masha', 'Sasha', 'Olga', 'Olga']\n"
     ]
    }
   ],
   "source": [
    "# помимо фукнции append можно использовать оператор +=\n",
    "students += ['Olga']\n",
    "print(students)"
   ]
  },
  {
   "cell_type": "code",
   "execution_count": 10,
   "metadata": {},
   "outputs": [
    {
     "name": "stdout",
     "output_type": "stream",
     "text": [
      "['Ivan', 'Masha', 'Sasha', 'Olga', 'Olga', 'Boris', 'Sergey']\n"
     ]
    }
   ],
   "source": [
    "students += ['Boris', 'Sergey']\n",
    "print(students)"
   ]
  },
  {
   "cell_type": "code",
   "execution_count": 11,
   "metadata": {
    "collapsed": true
   },
   "outputs": [],
   "source": [
    "# Пустой список. Далее можно добавлять элементы по одному/несколько (например, в цикле)\n",
    "students = []"
   ]
  },
  {
   "cell_type": "code",
   "execution_count": 12,
   "metadata": {},
   "outputs": [
    {
     "name": "stdout",
     "output_type": "stream",
     "text": [
      "['Ivan', 'Olga', 'Masha', 'Sasha']\n"
     ]
    }
   ],
   "source": [
    "# Вставка элементов в список\n",
    "students = ['Ivan', 'Masha', 'Sasha']\n",
    "students.insert(1, 'Olga') # позиция, в которую мы вставляем элемент\n",
    "print(students)"
   ]
  },
  {
   "cell_type": "code",
   "execution_count": 13,
   "metadata": {},
   "outputs": [
    {
     "name": "stdout",
     "output_type": "stream",
     "text": [
      "['Ivan', 'Masha', 'Sasha', 'Olga', 'O', 'l', 'g', 'a']\n",
      "8\n"
     ]
    }
   ],
   "source": [
    "# Задание 1\n",
    "students = ['Ivan', 'Masha', 'Sasha']\n",
    "students += ['Olga']\n",
    "students += 'Olga'\n",
    "print(students)\n",
    "print(len(students))"
   ]
  },
  {
   "cell_type": "markdown",
   "metadata": {},
   "source": [
    "### Удаление элемента из списка"
   ]
  },
  {
   "cell_type": "code",
   "execution_count": 14,
   "metadata": {},
   "outputs": [
    {
     "name": "stdout",
     "output_type": "stream",
     "text": [
      "['Ivan', 'Masha']\n",
      "['Masha']\n"
     ]
    }
   ],
   "source": [
    "students = ['Ivan', 'Masha', 'Sasha']\n",
    "students.remove('Sasha') # удаление методом remove. Удаляет только первое вхождение элемента в списке.\n",
    "print(students)\n",
    "del students[0] # удаление при помощи функции del\n",
    "print(students)"
   ]
  },
  {
   "cell_type": "markdown",
   "metadata": {},
   "source": [
    "### Поиск элемента в списке"
   ]
  },
  {
   "cell_type": "code",
   "execution_count": 15,
   "metadata": {},
   "outputs": [
    {
     "name": "stdout",
     "output_type": "stream",
     "text": [
      "Ivan is here!\n",
      "Ann is out!\n"
     ]
    }
   ],
   "source": [
    "students = ['Ivan', 'Masha', 'Sasha']\n",
    "if 'Ivan' in students:\n",
    "    print('Ivan is here!')\n",
    "if 'Ann' not in students:\n",
    "    print('Ann is out!')"
   ]
  },
  {
   "cell_type": "code",
   "execution_count": 16,
   "metadata": {},
   "outputs": [
    {
     "name": "stdout",
     "output_type": "stream",
     "text": [
      "2\n"
     ]
    }
   ],
   "source": [
    "students = ['Ivan', 'Masha', 'Sasha']\n",
    "ind = students.index('Sasha') # функция index, возвращает позицию, на которой стоит искомый элемент\n",
    "print(ind) # результат будет \"2\"\n",
    "# ind1 = students.index('Ann')\n",
    "# если выполнить эту функцию, вернется ошибка, т.к. 'Ann' не присутствует в списке."
   ]
  },
  {
   "cell_type": "markdown",
   "metadata": {},
   "source": [
    "### Сортировка списка  \n",
    "Необходимое условия для применения следующих функций - чтобы **все элементы списка были сравнимы**"
   ]
  },
  {
   "cell_type": "code",
   "execution_count": 17,
   "metadata": {},
   "outputs": [
    {
     "name": "stdout",
     "output_type": "stream",
     "text": [
      "['Ivan', 'Masha', 'Sasha']\n"
     ]
    }
   ],
   "source": [
    "# не изменяя порядка изначального списка\n",
    "# используется функция sorted. Она принимает один аргумент, и возвращает список, в котором значения упорядочены\n",
    "# в возрастающем порядке. При этом изначальный список не меняется\n",
    "students = ['Sasha', 'Ivan', 'Masha']\n",
    "ordered_students = sorted(students)\n",
    "print(ordered_students)"
   ]
  },
  {
   "cell_type": "code",
   "execution_count": 18,
   "metadata": {},
   "outputs": [
    {
     "name": "stdout",
     "output_type": "stream",
     "text": [
      "['Ivan', 'Masha', 'Sasha']\n"
     ]
    }
   ],
   "source": [
    "# Изменяя сам список\n",
    "# использовать у списка метод sort. \n",
    "students = ['Sasha', 'Ivan', 'Masha']\n",
    "students.sort()\n",
    "print(students)"
   ]
  },
  {
   "cell_type": "markdown",
   "metadata": {},
   "source": [
    "функция **min()** - возвращает минимальное значение в списке  \n",
    "функция **max()** - возвращает максимальное значение в списке"
   ]
  },
  {
   "cell_type": "markdown",
   "metadata": {},
   "source": [
    "### Список в обратном порядке"
   ]
  },
  {
   "cell_type": "code",
   "execution_count": 19,
   "metadata": {},
   "outputs": [
    {
     "name": "stdout",
     "output_type": "stream",
     "text": [
      "['Masha', 'Ivan', 'Sasha']\n"
     ]
    }
   ],
   "source": [
    "students = ['Sasha', 'Ivan', 'Masha']\n",
    "students.reverse() # функция reverse. Изменяет сам список.\n",
    "print(students)"
   ]
  },
  {
   "cell_type": "code",
   "execution_count": 20,
   "metadata": {},
   "outputs": [
    {
     "name": "stdout",
     "output_type": "stream",
     "text": [
      "['Masha', 'Ivan', 'Sasha']\n",
      "['Sasha', 'Ivan', 'Masha']\n"
     ]
    }
   ],
   "source": [
    "students = ['Sasha', 'Ivan', 'Masha']\n",
    "ab = list(reversed(students))\n",
    "print(ab)\n",
    "print(students)"
   ]
  },
  {
   "cell_type": "code",
   "execution_count": 21,
   "metadata": {},
   "outputs": [
    {
     "name": "stdout",
     "output_type": "stream",
     "text": [
      "['Masha', 'Ivan', 'Sasha']\n"
     ]
    }
   ],
   "source": [
    "students = ['Sasha', 'Ivan', 'Masha']\n",
    "print(students[::-1]) # список не меняется"
   ]
  },
  {
   "cell_type": "markdown",
   "metadata": {},
   "source": [
    "### Присвоение списков"
   ]
  },
  {
   "cell_type": "code",
   "execution_count": 22,
   "metadata": {},
   "outputs": [
    {
     "name": "stdout",
     "output_type": "stream",
     "text": [
      "[42, 'A', 2]\n",
      "[42, 'A', 2]\n"
     ]
    }
   ],
   "source": [
    "a = [1, 'A', 2]\n",
    "b = a\n",
    "a[0] = 42\n",
    "print(a)\n",
    "print(b)"
   ]
  },
  {
   "cell_type": "code",
   "execution_count": 23,
   "metadata": {},
   "outputs": [
    {
     "name": "stdout",
     "output_type": "stream",
     "text": [
      "[42, 'A', 30]\n",
      "[42, 'A', 30]\n"
     ]
    }
   ],
   "source": [
    "b[2] = 30\n",
    "print(a)\n",
    "print(b)"
   ]
  },
  {
   "cell_type": "code",
   "execution_count": 24,
   "metadata": {},
   "outputs": [
    {
     "name": "stdout",
     "output_type": "stream",
     "text": [
      "[1, 2, 3]\n",
      "[1, 10, 3]\n",
      "[20, 10, 3]\n",
      "[20, 10, 3]\n"
     ]
    }
   ],
   "source": [
    "# Задание 2\n",
    "a = [1, 2, 3]\n",
    "b = a\n",
    "print(b)\n",
    "a[1] = 10\n",
    "print(b)\n",
    "b[0] = 20\n",
    "print(a)\n",
    "a = [5, 6]\n",
    "print(b)"
   ]
  },
  {
   "cell_type": "markdown",
   "metadata": {},
   "source": [
    "### Генерация списков"
   ]
  },
  {
   "cell_type": "code",
   "execution_count": 25,
   "metadata": {},
   "outputs": [
    {
     "name": "stdout",
     "output_type": "stream",
     "text": [
      "[0, 0, 0, 0, 0]\n"
     ]
    }
   ],
   "source": [
    "a = [0] * 5 # Генерация списка умножением на целое число. \n",
    "print(a)"
   ]
  },
  {
   "cell_type": "code",
   "execution_count": 26,
   "metadata": {},
   "outputs": [
    {
     "name": "stdout",
     "output_type": "stream",
     "text": [
      "[0, 0, 0, 0, 0]\n"
     ]
    }
   ],
   "source": [
    "# Если нужны более сложные списки, можно пользоваться следующими конструкциями\n",
    "a = [0 for i in range(5)]\n",
    "print(a)"
   ]
  },
  {
   "cell_type": "code",
   "execution_count": 27,
   "metadata": {},
   "outputs": [
    {
     "name": "stdout",
     "output_type": "stream",
     "text": [
      "[0, 1, 4, 9, 16]\n"
     ]
    }
   ],
   "source": [
    "a = [i * i for i in range(5)] # Создает квадраты целых чисел от 0...4\n",
    "print(a)"
   ]
  },
  {
   "cell_type": "code",
   "execution_count": 29,
   "metadata": {},
   "outputs": [
    {
     "name": "stdout",
     "output_type": "stream",
     "text": [
      "1 2 3\n",
      "[1, 2, 3]\n"
     ]
    }
   ],
   "source": [
    "a = [int(i) for i in input().split()]\n",
    "print(a)"
   ]
  },
  {
   "cell_type": "code",
   "execution_count": 11,
   "metadata": {},
   "outputs": [
    {
     "name": "stdout",
     "output_type": "stream",
     "text": [
      "1 2 3 4 5 6 7\n",
      "28\n"
     ]
    }
   ],
   "source": [
    "# Задание 3\n",
    "x = [int(i) for i in input().split()]\n",
    "s = 0\n",
    "for i in range(len(x) - 1):\n",
    "    s += x[i]\n",
    "s = s + x[-1]\n",
    "print(s)"
   ]
  },
  {
   "cell_type": "code",
   "execution_count": 15,
   "metadata": {},
   "outputs": [
    {
     "name": "stdout",
     "output_type": "stream",
     "text": [
      "1 4\n",
      "5\n"
     ]
    }
   ],
   "source": [
    "# Задание 4\n",
    "x = [int(i) for i in input().split()]\n",
    "if len(x) > 1:\n",
    "    for i in range(len(x) - 1):\n",
    "        print(x[i + 1] + x)\n",
    "else:\n",
    "    print(x)"
   ]
  },
  {
   "cell_type": "code",
   "execution_count": null,
   "metadata": {
    "collapsed": true
   },
   "outputs": [],
   "source": []
  },
  {
   "cell_type": "code",
   "execution_count": null,
   "metadata": {
    "collapsed": true
   },
   "outputs": [],
   "source": []
  }
 ],
 "metadata": {
  "kernelspec": {
   "display_name": "Python 3",
   "language": "python",
   "name": "python3"
  },
  "language_info": {
   "codemirror_mode": {
    "name": "ipython",
    "version": 3
   },
   "file_extension": ".py",
   "mimetype": "text/x-python",
   "name": "python",
   "nbconvert_exporter": "python",
   "pygments_lexer": "ipython3",
   "version": "3.6.3"
  }
 },
 "nbformat": 4,
 "nbformat_minor": 2
}
