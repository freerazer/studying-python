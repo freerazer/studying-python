{
 "cells": [
  {
   "cell_type": "code",
   "execution_count": 1,
   "metadata": {
    "collapsed": true
   },
   "outputs": [],
   "source": [
    "# символы строки"
   ]
  },
  {
   "cell_type": "code",
   "execution_count": 2,
   "metadata": {},
   "outputs": [
    {
     "name": "stdout",
     "output_type": "stream",
     "text": [
      "T\n"
     ]
    }
   ],
   "source": [
    "genome = 'ATGG'\n",
    "i = 1\n",
    "print(genome[i])"
   ]
  },
  {
   "cell_type": "code",
   "execution_count": 3,
   "metadata": {},
   "outputs": [
    {
     "ename": "TypeError",
     "evalue": "'str' object does not support item assignment",
     "output_type": "error",
     "traceback": [
      "\u001b[1;31m---------------------------------------------------------------------------\u001b[0m",
      "\u001b[1;31mTypeError\u001b[0m                                 Traceback (most recent call last)",
      "\u001b[1;32m<ipython-input-3-dd17d9cd3453>\u001b[0m in \u001b[0;36m<module>\u001b[1;34m()\u001b[0m\n\u001b[0;32m      1\u001b[0m \u001b[1;31m# нельзя изменить строку\u001b[0m\u001b[1;33m\u001b[0m\u001b[1;33m\u001b[0m\u001b[0m\n\u001b[0;32m      2\u001b[0m \u001b[0mgenome\u001b[0m \u001b[1;33m=\u001b[0m \u001b[1;34m'ATGG'\u001b[0m\u001b[1;33m\u001b[0m\u001b[0m\n\u001b[1;32m----> 3\u001b[1;33m \u001b[0mgenome\u001b[0m\u001b[1;33m[\u001b[0m\u001b[1;36m1\u001b[0m\u001b[1;33m]\u001b[0m \u001b[1;33m=\u001b[0m \u001b[1;34m'C'\u001b[0m\u001b[1;33m\u001b[0m\u001b[0m\n\u001b[0m",
      "\u001b[1;31mTypeError\u001b[0m: 'str' object does not support item assignment"
     ]
    }
   ],
   "source": [
    "# нельзя изменить строку\n",
    "genome = 'ATGG'\n",
    "genome[1] = 'C'"
   ]
  },
  {
   "cell_type": "code",
   "execution_count": 6,
   "metadata": {},
   "outputs": [
    {
     "name": "stdout",
     "output_type": "stream",
     "text": [
      "A\n",
      "T\n",
      "G\n",
      "G\n"
     ]
    }
   ],
   "source": [
    "genome = 'ATGG'\n",
    "for i in range(4):\n",
    "    print(genome[i])"
   ]
  },
  {
   "cell_type": "code",
   "execution_count": 7,
   "metadata": {},
   "outputs": [
    {
     "name": "stdout",
     "output_type": "stream",
     "text": [
      "A\n",
      "T\n",
      "G\n",
      "G\n"
     ]
    }
   ],
   "source": [
    "genome = 'ATGG'\n",
    "for c in genome:\n",
    "    print(c)"
   ]
  },
  {
   "cell_type": "code",
   "execution_count": 11,
   "metadata": {},
   "outputs": [
    {
     "name": "stdout",
     "output_type": "stream",
     "text": [
      "ACFIRJF\n",
      "1\n"
     ]
    }
   ],
   "source": [
    "# Задача 1\n",
    "genome = input()\n",
    "cnt = 0\n",
    "for nucl in genome:\n",
    "    if nucl == 'C':\n",
    "        cnt += 1\n",
    "print(cnt)"
   ]
  },
  {
   "cell_type": "markdown",
   "metadata": {
    "collapsed": true
   },
   "source": [
    "### Методы у строк  \n",
    "```python\n",
    "s = 'aTGcc'\n",
    "p = 'cc'\n",
    "s.upper() --> 'ATGCC' # заменяет все маленькие буквы на большие. Если есть символы, не являющиеся буквами, они не изменяются\n",
    "s.lower() --> 'atgcc' # заменяет все большие буквы на маленькие. Сама строка не меняется, это лишь результат вывода.\n",
    "s.count(p) --> 1 # сколько раз подстрока 'p' встречается в строке 's'\n",
    "s.find(p) --> 3 # позволяет найти позицию первого вхождения (индекс) строки 'p' в строке 's'.\n",
    "```\n",
    "***\n",
    "s = 'aTGcc', индексы букв a = 0, T = 1, G = 2, c = 3, c = 4. Таким образом, строка 'cc' начинается с 3 индекса. Если строка 'p' не присутствует в строке 's', то результат выполнения метода будет '-1'.\n",
    "***\n",
    "```python\n",
    "s.find('A') --> -1 # строка 'A' не входит в 's'\n",
    "if 'TG' in s: # проверить вхождение в строку лучше таким способом\n",
    "    do <...>\n",
    "s.replace('c', 'C') --> 'aTGCC' # заменяем все вхождения 'c' на 'C'. Сама строка 's' не изменяется, это просто результат вывода.\n",
    "print(s) --> 'aTGcc'\n",
    "```"
   ]
  },
  {
   "cell_type": "markdown",
   "metadata": {
    "collapsed": true
   },
   "source": [
    "### Последовательные вызовы методов  \n",
    "```python\n",
    "s = 'agTtcAGtc'\n",
    "s.upper().count('gt'.upper())\n",
    "# результат: 2\n",
    "```"
   ]
  },
  {
   "cell_type": "code",
   "execution_count": 11,
   "metadata": {},
   "outputs": [
    {
     "name": "stdout",
     "output_type": "stream",
     "text": [
      "gjgfkfj;eknaggcc\n",
      "37.5\n"
     ]
    }
   ],
   "source": [
    "# Задача 2\n",
    "x = input().upper()\n",
    "l = len(x)\n",
    "p = 0 # итоговый процент\n",
    "n1 = x.count('C')\n",
    "n2 = x.count('G')\n",
    "n = n1 + n2 #cчетчик вхождений C или G\n",
    "p = (n / l) * 100\n",
    "print(p)\n",
    "\n",
    "# len подсчет символов в строке"
   ]
  },
  {
   "cell_type": "markdown",
   "metadata": {
    "collapsed": true
   },
   "source": [
    "### Slicing  \n",
    "Для взятия диапазонов символов\n",
    "\n",
    "```python\n",
    "dna = 'ATTCGGAGCT'\n",
    "dna[1] --> T\n",
    "dna[1:4] --> 'TTC' # 4 символ не включается\n",
    "dna[:4] --> 'ATTC' \n",
    "dna[4:] --> 'GGAGCT'\n",
    "dna[-4:] --> 'AGCT' # взятие строчки с 4 символ с конца и до конца строки\n",
    "dna[1:-1] --> 'TTCGGAGC'\n",
    "dna[1:-1:2] --> 'TCGG' # взятие символов с шагом 2\n",
    "dna[::-1] --> 'TCGAGGCTTA' # символы в обратном порядке\n",
    "```"
   ]
  },
  {
   "cell_type": "code",
   "execution_count": 10,
   "metadata": {},
   "outputs": [
    {
     "data": {
      "text/plain": [
       "'AGC'"
      ]
     },
     "execution_count": 10,
     "metadata": {},
     "output_type": "execute_result"
    }
   ],
   "source": [
    "dna = 'ATTCGGAGCT'\n",
    "dna[-4:-1]"
   ]
  },
  {
   "cell_type": "code",
   "execution_count": 14,
   "metadata": {},
   "outputs": [
    {
     "name": "stdout",
     "output_type": "stream",
     "text": [
      "AFA\n",
      "YES\n"
     ]
    }
   ],
   "source": [
    "# Выяснить, является ли строка палиндромом (читается слева-направо и справа-налево одинаково)\n",
    "s = input()\n",
    "i = 0\n",
    "j = len(s) -1\n",
    "is_palindrom = True\n",
    "while i < j:\n",
    "    if s[i] != s[j]:\n",
    "        is_palindrom = False\n",
    "        # break\n",
    "    i += 1\n",
    "    j -= 1\n",
    "if is_palindrom:\n",
    "    print('YES')\n",
    "else:\n",
    "    print('NO')\n",
    "    "
   ]
  },
  {
   "cell_type": "code",
   "execution_count": 15,
   "metadata": {},
   "outputs": [
    {
     "name": "stdout",
     "output_type": "stream",
     "text": [
      "FAF\n",
      "YES\n"
     ]
    }
   ],
   "source": [
    "# Решение прошлой задачи, более короткое. Минус его в том, что нужно выделять память под вторую строку S.\n",
    "# В том случае, если она очень длинная, нужно много памяти.\n",
    "s = input()\n",
    "r = s[::-1]\n",
    "if s == r:\n",
    "    print('YES')\n",
    "else:\n",
    "    print('NO')"
   ]
  },
  {
   "cell_type": "code",
   "execution_count": null,
   "metadata": {
    "collapsed": true
   },
   "outputs": [],
   "source": [
    "# Задача 3\n"
   ]
  }
 ],
 "metadata": {
  "kernelspec": {
   "display_name": "Python 3",
   "language": "python",
   "name": "python3"
  },
  "language_info": {
   "codemirror_mode": {
    "name": "ipython",
    "version": 3
   },
   "file_extension": ".py",
   "mimetype": "text/x-python",
   "name": "python",
   "nbconvert_exporter": "python",
   "pygments_lexer": "ipython3",
   "version": "3.6.3"
  }
 },
 "nbformat": 4,
 "nbformat_minor": 2
}
