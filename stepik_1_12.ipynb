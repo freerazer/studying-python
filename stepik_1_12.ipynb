{
 "cells": [
  {
   "cell_type": "code",
   "execution_count": null,
   "metadata": {
    "collapsed": true
   },
   "outputs": [],
   "source": [
    "# Задание 1\n",
    "a = int(input())\n",
    "b = int(input())\n",
    "c = int(input())\n",
    "p = (a + b + c)/2\n",
    "S = (p* (p - a) * (p - b) * (p - c))**0.5\n",
    "print(S)"
   ]
  },
  {
   "cell_type": "code",
   "execution_count": null,
   "metadata": {
    "collapsed": true
   },
   "outputs": [],
   "source": [
    "# Задание 2\n",
    "x = int(input())\n",
    "if -15 < x <= 12 or 14 < x < 17 or x >= 19:\n",
    "    print('True')\n",
    "else:\n",
    "    print('False')"
   ]
  },
  {
   "cell_type": "code",
   "execution_count": null,
   "metadata": {
    "collapsed": true
   },
   "outputs": [],
   "source": [
    "# Задание 3\n",
    "a = float(input())\n",
    "b = float(input())\n",
    "q = str(input())\n",
    "if q == '+':\n",
    "    print(a + b)\n",
    "elif q == '-':\n",
    "    print(a - b)\n",
    "elif q == '/':\n",
    "    if b == 0:\n",
    "        print('Деление на 0!')\n",
    "    else:\n",
    "        print(a / b)\n",
    "elif q == '*':\n",
    "    print(a * b)\n",
    "elif q == 'mod':\n",
    "    if b == 0:\n",
    "        print('Деление на 0!')\n",
    "    else:\n",
    "        print(a % b)\n",
    "elif q == 'pow':\n",
    "    print(a ** b)\n",
    "elif q == 'div':\n",
    "    if b == 0:\n",
    "        print('Деление на 0!')\n",
    "    else:    \n",
    "        print(a // b)"
   ]
  },
  {
   "cell_type": "code",
   "execution_count": null,
   "metadata": {
    "collapsed": true
   },
   "outputs": [],
   "source": [
    "# Задание 4\n",
    "x = str(input())\n",
    "if x == 'треугольник':\n",
    "    a = float(input())\n",
    "    b = float(input())\n",
    "    c = float(input())\n",
    "    p = (a + b + c)/2\n",
    "    S = (p * (p - a) * (p - b) * (p - c)) ** 0.5\n",
    "    print(S)\n",
    "elif x == 'прямоугольник':\n",
    "    a = float(input())\n",
    "    b = float(input())\n",
    "    print(a * b)\n",
    "elif x == 'круг':\n",
    "    r = float(input())\n",
    "    print(3.14 * (r ** 2))"
   ]
  },
  {
   "cell_type": "code",
   "execution_count": null,
   "metadata": {
    "collapsed": true
   },
   "outputs": [],
   "source": [
    "# Задание 5\n",
    "a = int(input())\n",
    "b = int(input())\n",
    "c = int(input())\n",
    "if a >= b:\n",
    "    if a >= c:\n",
    "        if b >= c:\n",
    "            print(a, c, b, sep='\\n')\n",
    "        elif b <= c:\n",
    "            print(a, b, c, sep='\\n')\n",
    "    elif a <= c:\n",
    "        if b <= c:\n",
    "            print(c, b, a, sep='\\n')\n",
    "elif a <= b:\n",
    "    if b <= c:\n",
    "        if a <= c:\n",
    "            print(c, a, b, sep='\\n')\n",
    "    elif b >= c:\n",
    "        if a >= c:\n",
    "            print(b, c, a, sep='\\n')\n",
    "        elif a <= c:\n",
    "            print(b, a, c, sep='\\n')"
   ]
  },
  {
   "cell_type": "code",
   "execution_count": null,
   "metadata": {
    "collapsed": true
   },
   "outputs": [],
   "source": [
    "# Задание 6\n",
    "n = int(input())\n",
    "if (11 <= n % 100 <= 19) or (5 <= n % 10 <= 9) or (n % 10 == 0): \n",
    "    print(n, 'программистов')\n",
    "elif n % 10 == 1:    \n",
    "    print(n, 'программист')\n",
    "else:\n",
    "    print(n, 'программиста')"
   ]
  },
  {
   "cell_type": "code",
   "execution_count": 52,
   "metadata": {},
   "outputs": [
    {
     "name": "stdout",
     "output_type": "stream",
     "text": [
      "090234\n",
      "Счастливый\n"
     ]
    }
   ],
   "source": [
    "# Задание 7\n",
    "m = str(input())\n",
    "n = int(m)\n",
    "if ((n // 100000) + (n // 10000 % 10) + (n // 1000 % 10)) == ((n // 100 % 10) + (n // 10 % 10) + (n % 10)):\n",
    "    print('Счастливый')\n",
    "else:\n",
    "    print('Обычный')"
   ]
  },
  {
   "cell_type": "code",
   "execution_count": 51,
   "metadata": {},
   "outputs": [
    {
     "name": "stdout",
     "output_type": "stream",
     "text": [
      "1\n",
      "2\n",
      "3\n",
      "4\n",
      "5\n",
      "6\n"
     ]
    }
   ],
   "source": [
    "n = 123456\n",
    "print(n // 100000) # первое число\n",
    "print(n // 10000 % 10) # второе число\n",
    "print(n // 1000 % 10) # третье число\n",
    "print(n // 100 % 10) # четвертое число\n",
    "print(n // 10 % 10) # пятое число\n",
    "print(n % 10) # шестое число"
   ]
  },
  {
   "cell_type": "code",
   "execution_count": 35,
   "metadata": {},
   "outputs": [
    {
     "data": {
      "text/plain": [
       "6"
      ]
     },
     "execution_count": 35,
     "metadata": {},
     "output_type": "execute_result"
    }
   ],
   "source": [
    "96 // 9 # целочисленное деление\n",
    "96 % 9 # получение остатка"
   ]
  },
  {
   "cell_type": "code",
   "execution_count": null,
   "metadata": {
    "collapsed": true
   },
   "outputs": [],
   "source": []
  }
 ],
 "metadata": {
  "kernelspec": {
   "display_name": "Python 3",
   "language": "python",
   "name": "python3"
  },
  "language_info": {
   "codemirror_mode": {
    "name": "ipython",
    "version": 3
   },
   "file_extension": ".py",
   "mimetype": "text/x-python",
   "name": "python",
   "nbconvert_exporter": "python",
   "pygments_lexer": "ipython3",
   "version": "3.6.3"
  }
 },
 "nbformat": 4,
 "nbformat_minor": 2
}
