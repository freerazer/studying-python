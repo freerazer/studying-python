{
 "cells": [
  {
   "cell_type": "code",
   "execution_count": 1,
   "metadata": {},
   "outputs": [
    {
     "name": "stdout",
     "output_type": "stream",
     "text": [
      "3\n",
      "4\n",
      "5\n",
      "6.0\n"
     ]
    }
   ],
   "source": [
    "# Задание 1\n",
    "a = int(input())\n",
    "b = int(input())\n",
    "c = int(input())\n",
    "p = (a + b + c)/2\n",
    "S = (p* (p - a) * (p - b) * (p - c))**0.5\n",
    "print(S)"
   ]
  },
  {
   "cell_type": "code",
   "execution_count": 16,
   "metadata": {},
   "outputs": [
    {
     "name": "stdout",
     "output_type": "stream",
     "text": [
      "-20\n",
      "False\n"
     ]
    }
   ],
   "source": [
    "# Задание 2\n",
    "x = int(input())\n",
    "if -15 < x <= 12 or 14 < x < 17 or x >= 19:\n",
    "    print('True')\n",
    "else:\n",
    "    print('False')"
   ]
  },
  {
   "cell_type": "code",
   "execution_count": 26,
   "metadata": {},
   "outputs": [
    {
     "name": "stdout",
     "output_type": "stream",
     "text": [
      "5.0\n",
      "10.0\n",
      "/\n",
      "0.5\n"
     ]
    }
   ],
   "source": [
    "# Задание 3\n",
    "a = float(input())\n",
    "b = float(input())\n",
    "q = str(input())\n",
    "if q == '+':\n",
    "    print(a + b)\n",
    "elif q == '-':\n",
    "    print(a - b)\n",
    "elif q == '/':\n",
    "    if b == 0:\n",
    "        print('Деление на 0!')\n",
    "    else:\n",
    "        print(a / b)\n",
    "elif q == '*':\n",
    "    print(a * b)\n",
    "elif q == 'mod':\n",
    "    if b == 0:\n",
    "        print('Деление на 0!')\n",
    "    else:\n",
    "        print(a % b)\n",
    "elif q == 'pow':\n",
    "    print(a ** b)\n",
    "elif q == 'div':\n",
    "    if b == 0:\n",
    "        print('Деление на 0!')\n",
    "    else:    \n",
    "        print(a // b)"
   ]
  },
  {
   "cell_type": "code",
   "execution_count": 30,
   "metadata": {},
   "outputs": [
    {
     "name": "stdout",
     "output_type": "stream",
     "text": [
      "треугольник\n",
      "3\n",
      "4\n",
      "5\n",
      "6.0\n"
     ]
    }
   ],
   "source": [
    "# Задание 4\n",
    "x = str(input())\n",
    "if x == 'треугольник':\n",
    "    a = float(input())\n",
    "    b = float(input())\n",
    "    c = float(input())\n",
    "    p = (a + b + c)/2\n",
    "    S = (p * (p - a) * (p - b) * (p - c)) ** 0.5\n",
    "    print(S)\n",
    "elif x == 'прямоугольник':\n",
    "    a = float(input())\n",
    "    b = float(input())\n",
    "    print(a * b)\n",
    "elif x == 'круг':\n",
    "    r = float(input())\n",
    "    print(3.14 * (r ** 2))"
   ]
  },
  {
   "cell_type": "code",
   "execution_count": 10,
   "metadata": {},
   "outputs": [
    {
     "name": "stdout",
     "output_type": "stream",
     "text": [
      "23\n",
      "23\n",
      "21\n",
      "23\n",
      "21\n",
      "23\n"
     ]
    }
   ],
   "source": [
    "# Задание 5\n",
    "a = int(input())\n",
    "b = int(input())\n",
    "c = int(input())\n",
    "if a >= b:\n",
    "    if a >= c:\n",
    "        if b >= c:\n",
    "            print(a, c, b, sep='\\n')\n",
    "        elif b <= c:\n",
    "            print(a, b, c, sep='\\n')\n",
    "    elif a <= c:\n",
    "        if b <= c:\n",
    "            print(c, b, a, sep='\\n')\n",
    "elif a <= b:\n",
    "    if b <= c:\n",
    "        if a <= c:\n",
    "            print(c, a, b, sep='\\n')\n",
    "    elif b >= c:\n",
    "        if a >= c:\n",
    "            print(b, c, a, sep='\\n')\n",
    "        elif a <= c:\n",
    "            print(b, a, c, sep='\\n')"
   ]
  },
  {
   "cell_type": "code",
   "execution_count": null,
   "metadata": {
    "collapsed": true
   },
   "outputs": [],
   "source": []
  }
 ],
 "metadata": {
  "kernelspec": {
   "display_name": "Python 3",
   "language": "python",
   "name": "python3"
  },
  "language_info": {
   "codemirror_mode": {
    "name": "ipython",
    "version": 3
   },
   "file_extension": ".py",
   "mimetype": "text/x-python",
   "name": "python",
   "nbconvert_exporter": "python",
   "pygments_lexer": "ipython3",
   "version": "3.6.3"
  }
 },
 "nbformat": 4,
 "nbformat_minor": 2
}
