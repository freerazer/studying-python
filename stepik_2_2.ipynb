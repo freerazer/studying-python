{
 "cells": [
  {
   "cell_type": "code",
   "execution_count": null,
   "metadata": {},
   "outputs": [],
   "source": [
    "i = 0\n",
    "while i < 5:\n",
    "    a, b = input().split()\n",
    "    a = int(a)\n",
    "    b = int(b)\n",
    "    print(a * b)\n",
    "    i += 1"
   ]
  },
  {
   "cell_type": "code",
   "execution_count": null,
   "metadata": {},
   "outputs": [],
   "source": [
    "# break - оператор завершения цикла\n",
    "i = 0\n",
    "while i < 5:\n",
    "    a, b = input().split()\n",
    "    a = int(a)\n",
    "    b = int(b)\n",
    "    if (a == 0) and (b == 0):\n",
    "        break\n",
    "    print(a * b)\n",
    "    i += 1"
   ]
  },
  {
   "cell_type": "code",
   "execution_count": null,
   "metadata": {},
   "outputs": [],
   "source": [
    "# continue - оператор перехода к следующей итерации цикла (если она есть)\n",
    "i = 0\n",
    "while i < 5:\n",
    "    a, b = input().split()\n",
    "    a = int(a)\n",
    "    b = int(b)\n",
    "    if (a == 0) and (b == 0):\n",
    "        break # досрочно завершаем цикл\n",
    "    if (a == 0) or (b == 0):\n",
    "        continue # переходим к следующей итерации\n",
    "    print(a * b)\n",
    "    i += 1"
   ]
  },
  {
   "cell_type": "code",
   "execution_count": 3,
   "metadata": {},
   "outputs": [
    {
     "name": "stdout",
     "output_type": "stream",
     "text": [
      "12\n",
      "12\n",
      "4\n",
      "2\n",
      "58\n",
      "58\n",
      "112\n"
     ]
    }
   ],
   "source": [
    "# Задание 1\n",
    "a = int(input())\n",
    "while a <= 100:\n",
    "    if a < 10:\n",
    "        a = int(input())\n",
    "        continue\n",
    "    if a >= 10:\n",
    "        print(a)\n",
    "        a = int(input())\n",
    "        continue\n",
    "    break"
   ]
  },
  {
   "cell_type": "code",
   "execution_count": null,
   "metadata": {
    "collapsed": true
   },
   "outputs": [],
   "source": []
  }
 ],
 "metadata": {
  "kernelspec": {
   "display_name": "Python 3",
   "language": "python",
   "name": "python3"
  },
  "language_info": {
   "codemirror_mode": {
    "name": "ipython",
    "version": 3
   },
   "file_extension": ".py",
   "mimetype": "text/x-python",
   "name": "python",
   "nbconvert_exporter": "python",
   "pygments_lexer": "ipython3",
   "version": "3.6.3"
  }
 },
 "nbformat": 4,
 "nbformat_minor": 2
}
