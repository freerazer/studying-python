{
 "cells": [
  {
   "cell_type": "code",
   "execution_count": null,
   "metadata": {
    "collapsed": true
   },
   "outputs": [],
   "source": [
    "# Цикл for\n",
    "# Позволяет делать повторяющиеся действия с последовательностью элементов"
   ]
  },
  {
   "cell_type": "code",
   "execution_count": null,
   "metadata": {
    "collapsed": true
   },
   "outputs": [],
   "source": [
    "for i in 2, 3, 5:\n",
    "    print(i * i)"
   ]
  },
  {
   "cell_type": "code",
   "execution_count": null,
   "metadata": {
    "collapsed": true
   },
   "outputs": [],
   "source": [
    "for i in range(10): # функция range с параметром (10) - не включает последний элемент\n",
    "    print(i * i)"
   ]
  },
  {
   "cell_type": "markdown",
   "metadata": {},
   "source": [
    "Range - функция, возвращающая последовательность  \n",
    "Примеры:\n",
    "- range(5): 0, 1, 2, 3, 4, 5 - все числа от 0 до 5 (не включая 5) с шагом 1\n",
    "- range(2, 5): 2, 3, 4 - все числа от 2 до 5 (не включая 5) с шагом 1\n",
    "- range(2, 15, 4): 2, 6, 10, 14 - все числа от 2 до 15 (не включая 15) с шагом 4  \n",
    "range(start = 0, to, step = 1)"
   ]
  },
  {
   "cell_type": "code",
   "execution_count": null,
   "metadata": {
    "collapsed": true
   },
   "outputs": [],
   "source": [
    "n = int(input())\n",
    "for i in range(n):\n",
    "    print('* ' * n)"
   ]
  },
  {
   "cell_type": "code",
   "execution_count": null,
   "metadata": {
    "collapsed": true
   },
   "outputs": [],
   "source": [
    "# Вложенные циклы\n",
    "n = int(input())\n",
    "for i in range(n):\n",
    "    for j in range(n):\n",
    "        print('* ', end='')\n",
    "    print()"
   ]
  },
  {
   "cell_type": "code",
   "execution_count": null,
   "metadata": {
    "collapsed": true
   },
   "outputs": [],
   "source": [
    "# Задание 1\n",
    "\n",
    "# a = 2\n",
    "# b = 5\n",
    "# c = 3\n",
    "# d = 5\n",
    "\n",
    "a = int(input())\n",
    "b = int(input())\n",
    "c = int(input())\n",
    "d = int(input())\n",
    "for x in range(c, d+1):\n",
    "    print('\\t', x, end='')\n",
    "print()\n",
    "for i in range(a, b+1):\n",
    "    print(i, end='')\n",
    "    for j in range(c, d+1):\n",
    "        print('\\t', i * j, end='')\n",
    "    print()"
   ]
  },
  {
   "cell_type": "markdown",
   "metadata": {},
   "source": [
    "Работает такой подход:  \n",
    "print ('\\t', num, end = '')"
   ]
  },
  {
   "cell_type": "code",
   "execution_count": 1,
   "metadata": {
    "collapsed": true
   },
   "outputs": [],
   "source": [
    "# вывести сумму всех нечетных чисел от a до b"
   ]
  },
  {
   "cell_type": "code",
   "execution_count": null,
   "metadata": {
    "collapsed": true
   },
   "outputs": [],
   "source": [
    "a, b = input().split()\n",
    "a = int(a)\n",
    "b = int(b)\n",
    "s = 0\n",
    "for i in range(a, b +1):\n",
    "    if i % 2 == 1:\n",
    "        s += i\n",
    "print(s)"
   ]
  },
  {
   "cell_type": "code",
   "execution_count": null,
   "metadata": {
    "collapsed": true
   },
   "outputs": [],
   "source": [
    "a, b = input().split()\n",
    "a = int(a)\n",
    "b = int(b)\n",
    "s = 0\n",
    "if a % 2 == 0:\n",
    "    a += 1\n",
    "for i in range(a, b+1, 2):\n",
    "    s += i\n",
    "print(s)"
   ]
  },
  {
   "cell_type": "code",
   "execution_count": 2,
   "metadata": {},
   "outputs": [
    {
     "name": "stdout",
     "output_type": "stream",
     "text": [
      "3 7 \n",
      "3 7\n"
     ]
    }
   ],
   "source": [
    "a, b = (int(i) for i in input().split()) # ввод данных при помощи цикла\n",
    "print(a, b)"
   ]
  },
  {
   "cell_type": "code",
   "execution_count": 3,
   "metadata": {},
   "outputs": [
    {
     "name": "stdout",
     "output_type": "stream",
     "text": [
      "-5 12\n",
      "4.5\n"
     ]
    }
   ],
   "source": [
    "# Задание 2\n",
    "a, b = (int(j) for j in input().split())\n",
    "# Решение принимается с таким вводом данных:\n",
    "# a = int(input())\n",
    "# b = int(input())\n",
    "s = 0\n",
    "x = 0\n",
    "for i in range(a, b+1):\n",
    "    if i % 3 == 0:\n",
    "        s = s + i\n",
    "        x += 1\n",
    "print(s / x)"
   ]
  },
  {
   "cell_type": "code",
   "execution_count": null,
   "metadata": {
    "collapsed": true
   },
   "outputs": [],
   "source": []
  }
 ],
 "metadata": {
  "kernelspec": {
   "display_name": "Python 3",
   "language": "python",
   "name": "python3"
  },
  "language_info": {
   "codemirror_mode": {
    "name": "ipython",
    "version": 3
   },
   "file_extension": ".py",
   "mimetype": "text/x-python",
   "name": "python",
   "nbconvert_exporter": "python",
   "pygments_lexer": "ipython3",
   "version": "3.6.3"
  }
 },
 "nbformat": 4,
 "nbformat_minor": 2
}
