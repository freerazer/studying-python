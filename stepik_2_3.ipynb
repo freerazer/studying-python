{
 "cells": [
  {
   "cell_type": "code",
   "execution_count": null,
   "metadata": {
    "collapsed": true
   },
   "outputs": [],
   "source": [
    "# Цикл for\n",
    "# Позволяет делать повторяющиеся действия с последовательностью элементов"
   ]
  },
  {
   "cell_type": "code",
   "execution_count": null,
   "metadata": {
    "collapsed": true
   },
   "outputs": [],
   "source": [
    "for i in 2, 3, 5:\n",
    "    print(i * i)"
   ]
  },
  {
   "cell_type": "code",
   "execution_count": null,
   "metadata": {
    "collapsed": true
   },
   "outputs": [],
   "source": [
    "for i in range(10): # функция range с параметром (10) - не включает последний элемент\n",
    "    print(i * i)"
   ]
  },
  {
   "cell_type": "markdown",
   "metadata": {},
   "source": [
    "Range - функция, возвращающая последовательность  \n",
    "Примеры:\n",
    "- range(5): 0, 1, 2, 3, 4, 5 - все числа от 0 до 5 (не включая 5) с шагом 1\n",
    "- range(2, 5): 2, 3, 4 - все числа от 2 до 5 (не включая 5) с шагом 1\n",
    "- range(2, 15, 4): 2, 6, 10, 14 - все числа от 2 до 15 (не включая 15) с шагом 4  \n",
    "range(start = 0, to, step = 1)"
   ]
  },
  {
   "cell_type": "code",
   "execution_count": 4,
   "metadata": {},
   "outputs": [
    {
     "name": "stdout",
     "output_type": "stream",
     "text": [
      "7\n",
      "* * * * * * * \n",
      "* * * * * * * \n",
      "* * * * * * * \n",
      "* * * * * * * \n",
      "* * * * * * * \n",
      "* * * * * * * \n",
      "* * * * * * * \n"
     ]
    }
   ],
   "source": [
    "n = int(input())\n",
    "for i in range(n):\n",
    "    print('* ' * n)"
   ]
  },
  {
   "cell_type": "code",
   "execution_count": null,
   "metadata": {
    "collapsed": true
   },
   "outputs": [],
   "source": [
    "# Вложенные циклы\n",
    "n = int(input())\n",
    "for i in range(n):\n",
    "    for j in range(n):\n",
    "        print('* ', end='')\n",
    "    print()"
   ]
  },
  {
   "cell_type": "code",
   "execution_count": 21,
   "metadata": {},
   "outputs": [
    {
     "name": "stdout",
     "output_type": "stream",
     "text": [
      "2\t 3\n",
      "\t 3\n",
      "3\t 3\n",
      "\t 3\n",
      "4\t 3\n",
      "\t 3\n",
      "5\t 3\n",
      "\t 3\n"
     ]
    }
   ],
   "source": [
    "#a = int(input())\n",
    "#b = int(input())\n",
    "#c = int(input())\n",
    "#d = int(input())\n",
    "a = 2\n",
    "b = 5\n",
    "c = 3\n",
    "d = 4\n",
    "#print('\\t', )\n",
    "for i in range(a, b+1):\n",
    "    print(i, end='')\n",
    "    for j in range(c, d+1):\n",
    "        print('\\t', c)\n",
    "        \n",
    "        \n",
    "        \n",
    "#        print('\\t', a * c, end='\\n')\n",
    "        "
   ]
  },
  {
   "cell_type": "markdown",
   "metadata": {},
   "source": [
    "Работает такой подход:  \n",
    "print ('\\t', num, end = '')"
   ]
  },
  {
   "cell_type": "code",
   "execution_count": 1,
   "metadata": {},
   "outputs": [
    {
     "name": "stdout",
     "output_type": "stream",
     "text": [
      "7\n",
      "8\n",
      "\n",
      "\t 56\t\n"
     ]
    }
   ],
   "source": [
    "a = int(input())\n",
    "b = int(input())\n",
    "for i in range(a, b):\n",
    "    print()\n",
    "    print('\\t', a * b, end='\\t')\n",
    "    print()"
   ]
  },
  {
   "cell_type": "code",
   "execution_count": null,
   "metadata": {
    "collapsed": true
   },
   "outputs": [],
   "source": []
  }
 ],
 "metadata": {
  "kernelspec": {
   "display_name": "Python 3",
   "language": "python",
   "name": "python3"
  },
  "language_info": {
   "codemirror_mode": {
    "name": "ipython",
    "version": 3
   },
   "file_extension": ".py",
   "mimetype": "text/x-python",
   "name": "python",
   "nbconvert_exporter": "python",
   "pygments_lexer": "ipython3",
   "version": "3.6.3"
  }
 },
 "nbformat": 4,
 "nbformat_minor": 2
}
